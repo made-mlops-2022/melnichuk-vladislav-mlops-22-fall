{
 "cells": [
  {
   "cell_type": "code",
   "execution_count": 1,
   "id": "503a5079",
   "metadata": {},
   "outputs": [],
   "source": [
    "RANDOM_SEED = 42"
   ]
  },
  {
   "cell_type": "code",
   "execution_count": 2,
   "id": "7c89e14e",
   "metadata": {},
   "outputs": [],
   "source": [
    "# %pip install sklearn"
   ]
  },
  {
   "cell_type": "code",
   "execution_count": 3,
   "id": "2192cf2b",
   "metadata": {},
   "outputs": [],
   "source": [
    "import pandas as pd\n",
    "import sklearn as sk\n",
    "from sklearn.model_selection import train_test_split\n",
    "from sklearn.pipeline import make_pipeline\n",
    "from sklearn.svm import SVC\n",
    "from sklearn.metrics import accuracy_score\n",
    "from sklearn.naive_bayes import GaussianNB\n",
    "from sklearn.preprocessing import LabelEncoder\n",
    "from sklearn.linear_model import LogisticRegression\n",
    "from sklearn.linear_model import LinearRegression"
   ]
  },
  {
   "cell_type": "code",
   "execution_count": 4,
   "id": "0d2ede9c",
   "metadata": {},
   "outputs": [],
   "source": [
    "df = pd.read_csv(\"../data/preprocessed/heart_cleveland_upload.csv\")"
   ]
  },
  {
   "cell_type": "code",
   "execution_count": 5,
   "id": "517eb763",
   "metadata": {},
   "outputs": [],
   "source": [
    "label_encoder = LabelEncoder()"
   ]
  },
  {
   "cell_type": "code",
   "execution_count": 6,
   "id": "2b2df0fd",
   "metadata": {},
   "outputs": [
    {
     "data": {
      "text/html": [
       "<div>\n",
       "<style scoped>\n",
       "    .dataframe tbody tr th:only-of-type {\n",
       "        vertical-align: middle;\n",
       "    }\n",
       "\n",
       "    .dataframe tbody tr th {\n",
       "        vertical-align: top;\n",
       "    }\n",
       "\n",
       "    .dataframe thead th {\n",
       "        text-align: right;\n",
       "    }\n",
       "</style>\n",
       "<table border=\"1\" class=\"dataframe\">\n",
       "  <thead>\n",
       "    <tr style=\"text-align: right;\">\n",
       "      <th></th>\n",
       "      <th>age</th>\n",
       "      <th>sex</th>\n",
       "      <th>chest pain</th>\n",
       "      <th>resting blood pressure</th>\n",
       "      <th>cholesterol</th>\n",
       "      <th>fasting blood sugar</th>\n",
       "      <th>resting electrocardiographic results</th>\n",
       "      <th>max heart rate</th>\n",
       "      <th>exercise induced angina</th>\n",
       "      <th>oldpeak</th>\n",
       "      <th>slope</th>\n",
       "      <th>number of major vessels</th>\n",
       "      <th>thal</th>\n",
       "      <th>condition</th>\n",
       "    </tr>\n",
       "  </thead>\n",
       "  <tbody>\n",
       "    <tr>\n",
       "      <th>0</th>\n",
       "      <td>69</td>\n",
       "      <td>male</td>\n",
       "      <td>typical angina</td>\n",
       "      <td>160</td>\n",
       "      <td>234</td>\n",
       "      <td>&gt; 120 mg/dl</td>\n",
       "      <td>showing probable or definite left ventricular ...</td>\n",
       "      <td>131</td>\n",
       "      <td>no</td>\n",
       "      <td>0.1</td>\n",
       "      <td>flat</td>\n",
       "      <td>1</td>\n",
       "      <td>normal</td>\n",
       "      <td>no disease</td>\n",
       "    </tr>\n",
       "    <tr>\n",
       "      <th>1</th>\n",
       "      <td>69</td>\n",
       "      <td>female</td>\n",
       "      <td>typical angina</td>\n",
       "      <td>140</td>\n",
       "      <td>239</td>\n",
       "      <td>&lt;= 120 mg/dl</td>\n",
       "      <td>normal</td>\n",
       "      <td>151</td>\n",
       "      <td>no</td>\n",
       "      <td>1.8</td>\n",
       "      <td>upsloping</td>\n",
       "      <td>2</td>\n",
       "      <td>normal</td>\n",
       "      <td>no disease</td>\n",
       "    </tr>\n",
       "    <tr>\n",
       "      <th>2</th>\n",
       "      <td>66</td>\n",
       "      <td>female</td>\n",
       "      <td>typical angina</td>\n",
       "      <td>150</td>\n",
       "      <td>226</td>\n",
       "      <td>&lt;= 120 mg/dl</td>\n",
       "      <td>normal</td>\n",
       "      <td>114</td>\n",
       "      <td>no</td>\n",
       "      <td>2.6</td>\n",
       "      <td>downsloping</td>\n",
       "      <td>0</td>\n",
       "      <td>normal</td>\n",
       "      <td>no disease</td>\n",
       "    </tr>\n",
       "    <tr>\n",
       "      <th>3</th>\n",
       "      <td>65</td>\n",
       "      <td>male</td>\n",
       "      <td>typical angina</td>\n",
       "      <td>138</td>\n",
       "      <td>282</td>\n",
       "      <td>&gt; 120 mg/dl</td>\n",
       "      <td>showing probable or definite left ventricular ...</td>\n",
       "      <td>174</td>\n",
       "      <td>no</td>\n",
       "      <td>1.4</td>\n",
       "      <td>flat</td>\n",
       "      <td>1</td>\n",
       "      <td>normal</td>\n",
       "      <td>disease</td>\n",
       "    </tr>\n",
       "    <tr>\n",
       "      <th>4</th>\n",
       "      <td>64</td>\n",
       "      <td>male</td>\n",
       "      <td>typical angina</td>\n",
       "      <td>110</td>\n",
       "      <td>211</td>\n",
       "      <td>&lt;= 120 mg/dl</td>\n",
       "      <td>showing probable or definite left ventricular ...</td>\n",
       "      <td>144</td>\n",
       "      <td>yes</td>\n",
       "      <td>1.8</td>\n",
       "      <td>flat</td>\n",
       "      <td>0</td>\n",
       "      <td>normal</td>\n",
       "      <td>no disease</td>\n",
       "    </tr>\n",
       "    <tr>\n",
       "      <th>...</th>\n",
       "      <td>...</td>\n",
       "      <td>...</td>\n",
       "      <td>...</td>\n",
       "      <td>...</td>\n",
       "      <td>...</td>\n",
       "      <td>...</td>\n",
       "      <td>...</td>\n",
       "      <td>...</td>\n",
       "      <td>...</td>\n",
       "      <td>...</td>\n",
       "      <td>...</td>\n",
       "      <td>...</td>\n",
       "      <td>...</td>\n",
       "      <td>...</td>\n",
       "    </tr>\n",
       "    <tr>\n",
       "      <th>292</th>\n",
       "      <td>40</td>\n",
       "      <td>male</td>\n",
       "      <td>asyptomatic</td>\n",
       "      <td>152</td>\n",
       "      <td>223</td>\n",
       "      <td>&lt;= 120 mg/dl</td>\n",
       "      <td>normal</td>\n",
       "      <td>181</td>\n",
       "      <td>no</td>\n",
       "      <td>0.0</td>\n",
       "      <td>upsloping</td>\n",
       "      <td>0</td>\n",
       "      <td>reversable defect and the label</td>\n",
       "      <td>disease</td>\n",
       "    </tr>\n",
       "    <tr>\n",
       "      <th>293</th>\n",
       "      <td>39</td>\n",
       "      <td>male</td>\n",
       "      <td>asyptomatic</td>\n",
       "      <td>118</td>\n",
       "      <td>219</td>\n",
       "      <td>&lt;= 120 mg/dl</td>\n",
       "      <td>normal</td>\n",
       "      <td>140</td>\n",
       "      <td>no</td>\n",
       "      <td>1.2</td>\n",
       "      <td>flat</td>\n",
       "      <td>0</td>\n",
       "      <td>reversable defect and the label</td>\n",
       "      <td>disease</td>\n",
       "    </tr>\n",
       "    <tr>\n",
       "      <th>294</th>\n",
       "      <td>35</td>\n",
       "      <td>male</td>\n",
       "      <td>asyptomatic</td>\n",
       "      <td>120</td>\n",
       "      <td>198</td>\n",
       "      <td>&lt;= 120 mg/dl</td>\n",
       "      <td>normal</td>\n",
       "      <td>130</td>\n",
       "      <td>yes</td>\n",
       "      <td>1.6</td>\n",
       "      <td>flat</td>\n",
       "      <td>0</td>\n",
       "      <td>reversable defect and the label</td>\n",
       "      <td>disease</td>\n",
       "    </tr>\n",
       "    <tr>\n",
       "      <th>295</th>\n",
       "      <td>35</td>\n",
       "      <td>female</td>\n",
       "      <td>asyptomatic</td>\n",
       "      <td>138</td>\n",
       "      <td>183</td>\n",
       "      <td>&lt;= 120 mg/dl</td>\n",
       "      <td>normal</td>\n",
       "      <td>182</td>\n",
       "      <td>no</td>\n",
       "      <td>1.4</td>\n",
       "      <td>upsloping</td>\n",
       "      <td>0</td>\n",
       "      <td>normal</td>\n",
       "      <td>no disease</td>\n",
       "    </tr>\n",
       "    <tr>\n",
       "      <th>296</th>\n",
       "      <td>35</td>\n",
       "      <td>male</td>\n",
       "      <td>asyptomatic</td>\n",
       "      <td>126</td>\n",
       "      <td>282</td>\n",
       "      <td>&lt;= 120 mg/dl</td>\n",
       "      <td>showing probable or definite left ventricular ...</td>\n",
       "      <td>156</td>\n",
       "      <td>yes</td>\n",
       "      <td>0.0</td>\n",
       "      <td>upsloping</td>\n",
       "      <td>0</td>\n",
       "      <td>reversable defect and the label</td>\n",
       "      <td>disease</td>\n",
       "    </tr>\n",
       "  </tbody>\n",
       "</table>\n",
       "<p>297 rows × 14 columns</p>\n",
       "</div>"
      ],
      "text/plain": [
       "     age     sex      chest pain  resting blood pressure  cholesterol  \\\n",
       "0     69    male  typical angina                     160          234   \n",
       "1     69  female  typical angina                     140          239   \n",
       "2     66  female  typical angina                     150          226   \n",
       "3     65    male  typical angina                     138          282   \n",
       "4     64    male  typical angina                     110          211   \n",
       "..   ...     ...             ...                     ...          ...   \n",
       "292   40    male     asyptomatic                     152          223   \n",
       "293   39    male     asyptomatic                     118          219   \n",
       "294   35    male     asyptomatic                     120          198   \n",
       "295   35  female     asyptomatic                     138          183   \n",
       "296   35    male     asyptomatic                     126          282   \n",
       "\n",
       "    fasting blood sugar               resting electrocardiographic results  \\\n",
       "0           > 120 mg/dl  showing probable or definite left ventricular ...   \n",
       "1          <= 120 mg/dl                                             normal   \n",
       "2          <= 120 mg/dl                                             normal   \n",
       "3           > 120 mg/dl  showing probable or definite left ventricular ...   \n",
       "4          <= 120 mg/dl  showing probable or definite left ventricular ...   \n",
       "..                  ...                                                ...   \n",
       "292        <= 120 mg/dl                                             normal   \n",
       "293        <= 120 mg/dl                                             normal   \n",
       "294        <= 120 mg/dl                                             normal   \n",
       "295        <= 120 mg/dl                                             normal   \n",
       "296        <= 120 mg/dl  showing probable or definite left ventricular ...   \n",
       "\n",
       "     max heart rate exercise induced angina  oldpeak        slope  \\\n",
       "0               131                      no      0.1         flat   \n",
       "1               151                      no      1.8    upsloping   \n",
       "2               114                      no      2.6  downsloping   \n",
       "3               174                      no      1.4         flat   \n",
       "4               144                     yes      1.8         flat   \n",
       "..              ...                     ...      ...          ...   \n",
       "292             181                      no      0.0    upsloping   \n",
       "293             140                      no      1.2         flat   \n",
       "294             130                     yes      1.6         flat   \n",
       "295             182                      no      1.4    upsloping   \n",
       "296             156                     yes      0.0    upsloping   \n",
       "\n",
       "     number of major vessels                             thal   condition  \n",
       "0                          1                           normal  no disease  \n",
       "1                          2                           normal  no disease  \n",
       "2                          0                           normal  no disease  \n",
       "3                          1                           normal     disease  \n",
       "4                          0                           normal  no disease  \n",
       "..                       ...                              ...         ...  \n",
       "292                        0  reversable defect and the label     disease  \n",
       "293                        0  reversable defect and the label     disease  \n",
       "294                        0  reversable defect and the label     disease  \n",
       "295                        0                           normal  no disease  \n",
       "296                        0  reversable defect and the label     disease  \n",
       "\n",
       "[297 rows x 14 columns]"
      ]
     },
     "execution_count": 6,
     "metadata": {},
     "output_type": "execute_result"
    }
   ],
   "source": [
    "df"
   ]
  },
  {
   "cell_type": "code",
   "execution_count": 7,
   "id": "1e4d5b49",
   "metadata": {},
   "outputs": [],
   "source": [
    "df[\"sex\"] = label_encoder.fit_transform(df[\"sex\"])\n",
    "df[\"chest pain\"] = label_encoder.fit_transform(df[\"chest pain\"])\n",
    "df[\"fasting blood sugar\"] = label_encoder.fit_transform(df[\"fasting blood sugar\"])\n",
    "df[\"resting electrocardiographic results\"] = label_encoder.fit_transform(df[\"resting electrocardiographic results\"])\n",
    "df[\"exercise induced angina\"] = label_encoder.fit_transform(df[\"exercise induced angina\"])\n",
    "df[\"slope\"] = label_encoder.fit_transform(df[\"slope\"])\n",
    "df[\"thal\"] = label_encoder.fit_transform(df[\"thal\"])\n",
    "df[\"condition\"] = label_encoder.fit_transform(df[\"condition\"])"
   ]
  },
  {
   "cell_type": "code",
   "execution_count": 8,
   "id": "93208823",
   "metadata": {},
   "outputs": [
    {
     "data": {
      "text/html": [
       "<div>\n",
       "<style scoped>\n",
       "    .dataframe tbody tr th:only-of-type {\n",
       "        vertical-align: middle;\n",
       "    }\n",
       "\n",
       "    .dataframe tbody tr th {\n",
       "        vertical-align: top;\n",
       "    }\n",
       "\n",
       "    .dataframe thead th {\n",
       "        text-align: right;\n",
       "    }\n",
       "</style>\n",
       "<table border=\"1\" class=\"dataframe\">\n",
       "  <thead>\n",
       "    <tr style=\"text-align: right;\">\n",
       "      <th></th>\n",
       "      <th>age</th>\n",
       "      <th>sex</th>\n",
       "      <th>chest pain</th>\n",
       "      <th>resting blood pressure</th>\n",
       "      <th>cholesterol</th>\n",
       "      <th>fasting blood sugar</th>\n",
       "      <th>resting electrocardiographic results</th>\n",
       "      <th>max heart rate</th>\n",
       "      <th>exercise induced angina</th>\n",
       "      <th>oldpeak</th>\n",
       "      <th>slope</th>\n",
       "      <th>number of major vessels</th>\n",
       "      <th>thal</th>\n",
       "      <th>condition</th>\n",
       "    </tr>\n",
       "  </thead>\n",
       "  <tbody>\n",
       "    <tr>\n",
       "      <th>0</th>\n",
       "      <td>69</td>\n",
       "      <td>1</td>\n",
       "      <td>3</td>\n",
       "      <td>160</td>\n",
       "      <td>234</td>\n",
       "      <td>1</td>\n",
       "      <td>2</td>\n",
       "      <td>131</td>\n",
       "      <td>0</td>\n",
       "      <td>0.1</td>\n",
       "      <td>1</td>\n",
       "      <td>1</td>\n",
       "      <td>1</td>\n",
       "      <td>1</td>\n",
       "    </tr>\n",
       "    <tr>\n",
       "      <th>1</th>\n",
       "      <td>69</td>\n",
       "      <td>0</td>\n",
       "      <td>3</td>\n",
       "      <td>140</td>\n",
       "      <td>239</td>\n",
       "      <td>0</td>\n",
       "      <td>1</td>\n",
       "      <td>151</td>\n",
       "      <td>0</td>\n",
       "      <td>1.8</td>\n",
       "      <td>2</td>\n",
       "      <td>2</td>\n",
       "      <td>1</td>\n",
       "      <td>1</td>\n",
       "    </tr>\n",
       "    <tr>\n",
       "      <th>2</th>\n",
       "      <td>66</td>\n",
       "      <td>0</td>\n",
       "      <td>3</td>\n",
       "      <td>150</td>\n",
       "      <td>226</td>\n",
       "      <td>0</td>\n",
       "      <td>1</td>\n",
       "      <td>114</td>\n",
       "      <td>0</td>\n",
       "      <td>2.6</td>\n",
       "      <td>0</td>\n",
       "      <td>0</td>\n",
       "      <td>1</td>\n",
       "      <td>1</td>\n",
       "    </tr>\n",
       "    <tr>\n",
       "      <th>3</th>\n",
       "      <td>65</td>\n",
       "      <td>1</td>\n",
       "      <td>3</td>\n",
       "      <td>138</td>\n",
       "      <td>282</td>\n",
       "      <td>1</td>\n",
       "      <td>2</td>\n",
       "      <td>174</td>\n",
       "      <td>0</td>\n",
       "      <td>1.4</td>\n",
       "      <td>1</td>\n",
       "      <td>1</td>\n",
       "      <td>1</td>\n",
       "      <td>0</td>\n",
       "    </tr>\n",
       "    <tr>\n",
       "      <th>4</th>\n",
       "      <td>64</td>\n",
       "      <td>1</td>\n",
       "      <td>3</td>\n",
       "      <td>110</td>\n",
       "      <td>211</td>\n",
       "      <td>0</td>\n",
       "      <td>2</td>\n",
       "      <td>144</td>\n",
       "      <td>1</td>\n",
       "      <td>1.8</td>\n",
       "      <td>1</td>\n",
       "      <td>0</td>\n",
       "      <td>1</td>\n",
       "      <td>1</td>\n",
       "    </tr>\n",
       "    <tr>\n",
       "      <th>...</th>\n",
       "      <td>...</td>\n",
       "      <td>...</td>\n",
       "      <td>...</td>\n",
       "      <td>...</td>\n",
       "      <td>...</td>\n",
       "      <td>...</td>\n",
       "      <td>...</td>\n",
       "      <td>...</td>\n",
       "      <td>...</td>\n",
       "      <td>...</td>\n",
       "      <td>...</td>\n",
       "      <td>...</td>\n",
       "      <td>...</td>\n",
       "      <td>...</td>\n",
       "    </tr>\n",
       "    <tr>\n",
       "      <th>292</th>\n",
       "      <td>40</td>\n",
       "      <td>1</td>\n",
       "      <td>0</td>\n",
       "      <td>152</td>\n",
       "      <td>223</td>\n",
       "      <td>0</td>\n",
       "      <td>1</td>\n",
       "      <td>181</td>\n",
       "      <td>0</td>\n",
       "      <td>0.0</td>\n",
       "      <td>2</td>\n",
       "      <td>0</td>\n",
       "      <td>2</td>\n",
       "      <td>0</td>\n",
       "    </tr>\n",
       "    <tr>\n",
       "      <th>293</th>\n",
       "      <td>39</td>\n",
       "      <td>1</td>\n",
       "      <td>0</td>\n",
       "      <td>118</td>\n",
       "      <td>219</td>\n",
       "      <td>0</td>\n",
       "      <td>1</td>\n",
       "      <td>140</td>\n",
       "      <td>0</td>\n",
       "      <td>1.2</td>\n",
       "      <td>1</td>\n",
       "      <td>0</td>\n",
       "      <td>2</td>\n",
       "      <td>0</td>\n",
       "    </tr>\n",
       "    <tr>\n",
       "      <th>294</th>\n",
       "      <td>35</td>\n",
       "      <td>1</td>\n",
       "      <td>0</td>\n",
       "      <td>120</td>\n",
       "      <td>198</td>\n",
       "      <td>0</td>\n",
       "      <td>1</td>\n",
       "      <td>130</td>\n",
       "      <td>1</td>\n",
       "      <td>1.6</td>\n",
       "      <td>1</td>\n",
       "      <td>0</td>\n",
       "      <td>2</td>\n",
       "      <td>0</td>\n",
       "    </tr>\n",
       "    <tr>\n",
       "      <th>295</th>\n",
       "      <td>35</td>\n",
       "      <td>0</td>\n",
       "      <td>0</td>\n",
       "      <td>138</td>\n",
       "      <td>183</td>\n",
       "      <td>0</td>\n",
       "      <td>1</td>\n",
       "      <td>182</td>\n",
       "      <td>0</td>\n",
       "      <td>1.4</td>\n",
       "      <td>2</td>\n",
       "      <td>0</td>\n",
       "      <td>1</td>\n",
       "      <td>1</td>\n",
       "    </tr>\n",
       "    <tr>\n",
       "      <th>296</th>\n",
       "      <td>35</td>\n",
       "      <td>1</td>\n",
       "      <td>0</td>\n",
       "      <td>126</td>\n",
       "      <td>282</td>\n",
       "      <td>0</td>\n",
       "      <td>2</td>\n",
       "      <td>156</td>\n",
       "      <td>1</td>\n",
       "      <td>0.0</td>\n",
       "      <td>2</td>\n",
       "      <td>0</td>\n",
       "      <td>2</td>\n",
       "      <td>0</td>\n",
       "    </tr>\n",
       "  </tbody>\n",
       "</table>\n",
       "<p>297 rows × 14 columns</p>\n",
       "</div>"
      ],
      "text/plain": [
       "     age  sex  chest pain  resting blood pressure  cholesterol  \\\n",
       "0     69    1           3                     160          234   \n",
       "1     69    0           3                     140          239   \n",
       "2     66    0           3                     150          226   \n",
       "3     65    1           3                     138          282   \n",
       "4     64    1           3                     110          211   \n",
       "..   ...  ...         ...                     ...          ...   \n",
       "292   40    1           0                     152          223   \n",
       "293   39    1           0                     118          219   \n",
       "294   35    1           0                     120          198   \n",
       "295   35    0           0                     138          183   \n",
       "296   35    1           0                     126          282   \n",
       "\n",
       "     fasting blood sugar  resting electrocardiographic results  \\\n",
       "0                      1                                     2   \n",
       "1                      0                                     1   \n",
       "2                      0                                     1   \n",
       "3                      1                                     2   \n",
       "4                      0                                     2   \n",
       "..                   ...                                   ...   \n",
       "292                    0                                     1   \n",
       "293                    0                                     1   \n",
       "294                    0                                     1   \n",
       "295                    0                                     1   \n",
       "296                    0                                     2   \n",
       "\n",
       "     max heart rate  exercise induced angina  oldpeak  slope  \\\n",
       "0               131                        0      0.1      1   \n",
       "1               151                        0      1.8      2   \n",
       "2               114                        0      2.6      0   \n",
       "3               174                        0      1.4      1   \n",
       "4               144                        1      1.8      1   \n",
       "..              ...                      ...      ...    ...   \n",
       "292             181                        0      0.0      2   \n",
       "293             140                        0      1.2      1   \n",
       "294             130                        1      1.6      1   \n",
       "295             182                        0      1.4      2   \n",
       "296             156                        1      0.0      2   \n",
       "\n",
       "     number of major vessels  thal  condition  \n",
       "0                          1     1          1  \n",
       "1                          2     1          1  \n",
       "2                          0     1          1  \n",
       "3                          1     1          0  \n",
       "4                          0     1          1  \n",
       "..                       ...   ...        ...  \n",
       "292                        0     2          0  \n",
       "293                        0     2          0  \n",
       "294                        0     2          0  \n",
       "295                        0     1          1  \n",
       "296                        0     2          0  \n",
       "\n",
       "[297 rows x 14 columns]"
      ]
     },
     "execution_count": 8,
     "metadata": {},
     "output_type": "execute_result"
    }
   ],
   "source": [
    "df"
   ]
  },
  {
   "cell_type": "code",
   "execution_count": 9,
   "id": "e338921e",
   "metadata": {},
   "outputs": [],
   "source": [
    "features = df.drop([\"condition\"], axis=1)\n",
    "target = df.condition"
   ]
  },
  {
   "cell_type": "code",
   "execution_count": 10,
   "id": "6c8bca38",
   "metadata": {},
   "outputs": [],
   "source": [
    "x_train, x_test, y_train, y_test = train_test_split(features, target, test_size=0.15)"
   ]
  },
  {
   "cell_type": "code",
   "execution_count": 11,
   "id": "421a4782",
   "metadata": {},
   "outputs": [],
   "source": [
    "svm = SVC(gamma=\"auto\")"
   ]
  },
  {
   "cell_type": "code",
   "execution_count": 12,
   "id": "bb25f04d",
   "metadata": {},
   "outputs": [
    {
     "data": {
      "text/plain": [
       "SVC(gamma='auto')"
      ]
     },
     "execution_count": 12,
     "metadata": {},
     "output_type": "execute_result"
    }
   ],
   "source": [
    "svm.fit(x_train, y_train)"
   ]
  },
  {
   "cell_type": "code",
   "execution_count": 13,
   "id": "52f62d0d",
   "metadata": {},
   "outputs": [],
   "source": [
    "y_pred_svm = svm.predict(x_test)"
   ]
  },
  {
   "cell_type": "code",
   "execution_count": 14,
   "id": "f8cfdb5d",
   "metadata": {},
   "outputs": [
    {
     "data": {
      "text/plain": [
       "0.5777777777777777"
      ]
     },
     "execution_count": 14,
     "metadata": {},
     "output_type": "execute_result"
    }
   ],
   "source": [
    "accuracy_score(y_test, y_pred_svm)"
   ]
  },
  {
   "cell_type": "code",
   "execution_count": 15,
   "id": "4f94e6ca",
   "metadata": {},
   "outputs": [],
   "source": [
    "gaussian_naive_bayes = GaussianNB()"
   ]
  },
  {
   "cell_type": "code",
   "execution_count": null,
   "id": "0183d965",
   "metadata": {},
   "outputs": [],
   "source": []
  },
  {
   "cell_type": "code",
   "execution_count": 16,
   "id": "f3e8a97f",
   "metadata": {},
   "outputs": [
    {
     "data": {
      "text/plain": [
       "GaussianNB()"
      ]
     },
     "execution_count": 16,
     "metadata": {},
     "output_type": "execute_result"
    }
   ],
   "source": [
    "gaussian_naive_bayes.fit(x_train, y_train)"
   ]
  },
  {
   "cell_type": "code",
   "execution_count": 17,
   "id": "579690b1",
   "metadata": {},
   "outputs": [],
   "source": [
    "y_pred_nb = gaussian_naive_bayes.predict(x_test)"
   ]
  },
  {
   "cell_type": "code",
   "execution_count": 18,
   "id": "7817b475",
   "metadata": {},
   "outputs": [
    {
     "data": {
      "text/plain": [
       "0.7777777777777778"
      ]
     },
     "execution_count": 18,
     "metadata": {},
     "output_type": "execute_result"
    }
   ],
   "source": [
    "accuracy_score(y_test, y_pred_nb)"
   ]
  },
  {
   "cell_type": "code",
   "execution_count": 19,
   "id": "84e07589",
   "metadata": {},
   "outputs": [],
   "source": [
    "logreg = LogisticRegression()"
   ]
  },
  {
   "cell_type": "code",
   "execution_count": 20,
   "id": "391d6d57",
   "metadata": {},
   "outputs": [
    {
     "name": "stderr",
     "output_type": "stream",
     "text": [
      "e:\\ProgramData\\Anaconda3\\lib\\site-packages\\sklearn\\linear_model\\_logistic.py:763: ConvergenceWarning: lbfgs failed to converge (status=1):\n",
      "STOP: TOTAL NO. of ITERATIONS REACHED LIMIT.\n",
      "\n",
      "Increase the number of iterations (max_iter) or scale the data as shown in:\n",
      "    https://scikit-learn.org/stable/modules/preprocessing.html\n",
      "Please also refer to the documentation for alternative solver options:\n",
      "    https://scikit-learn.org/stable/modules/linear_model.html#logistic-regression\n",
      "  n_iter_i = _check_optimize_result(\n"
     ]
    },
    {
     "data": {
      "text/plain": [
       "LogisticRegression()"
      ]
     },
     "execution_count": 20,
     "metadata": {},
     "output_type": "execute_result"
    }
   ],
   "source": [
    "logreg.fit(x_train, y_train)"
   ]
  },
  {
   "cell_type": "code",
   "execution_count": 21,
   "id": "38a3a652",
   "metadata": {},
   "outputs": [],
   "source": [
    "y_pred_logreg =logreg.predict(x_test)"
   ]
  },
  {
   "cell_type": "code",
   "execution_count": 22,
   "id": "4ae46c2a",
   "metadata": {},
   "outputs": [
    {
     "data": {
      "text/plain": [
       "0.8888888888888888"
      ]
     },
     "execution_count": 22,
     "metadata": {},
     "output_type": "execute_result"
    }
   ],
   "source": [
    "accuracy_score(y_test, y_pred_logreg)"
   ]
  },
  {
   "cell_type": "code",
   "execution_count": 23,
   "id": "2a517885",
   "metadata": {},
   "outputs": [],
   "source": [
    "linreg = LinearRegression()"
   ]
  },
  {
   "cell_type": "code",
   "execution_count": 24,
   "id": "711be6cb",
   "metadata": {},
   "outputs": [
    {
     "data": {
      "text/plain": [
       "LinearRegression()"
      ]
     },
     "execution_count": 24,
     "metadata": {},
     "output_type": "execute_result"
    }
   ],
   "source": [
    "linreg.fit(x_train, y_train)"
   ]
  },
  {
   "cell_type": "code",
   "execution_count": 25,
   "id": "04c4c701",
   "metadata": {},
   "outputs": [],
   "source": [
    "y_pred_linreg = linreg.predict(x_test)"
   ]
  },
  {
   "cell_type": "code",
   "execution_count": 26,
   "id": "78934fbd",
   "metadata": {},
   "outputs": [
    {
     "data": {
      "text/plain": [
       "array([ 0.74452108,  0.35868481,  0.0234626 ,  0.62294428, -0.17978044,\n",
       "        0.18677085,  0.72395092,  0.68339561,  0.18534144,  1.03995037,\n",
       "        1.02805081,  1.17021895, -0.01101032,  0.73411499,  0.66021251,\n",
       "        0.48497456,  0.46199296, -0.17653096,  0.61243553,  0.85553978,\n",
       "        0.64670316, -0.1732056 ,  0.33664365,  0.19406771,  0.45233877,\n",
       "        0.68511991,  0.07136675,  0.36464857,  0.57022797,  0.67754413,\n",
       "       -0.1571682 ,  0.89379028,  0.59888697,  0.9836777 ,  0.89061991,\n",
       "        0.49526565,  0.65378272, -0.19806246,  0.51324113,  0.92212878,\n",
       "        0.63594192,  0.01989254,  0.4655077 ,  0.84453148,  0.60958898])"
      ]
     },
     "execution_count": 26,
     "metadata": {},
     "output_type": "execute_result"
    }
   ],
   "source": [
    "y_pred_linreg"
   ]
  },
  {
   "cell_type": "code",
   "execution_count": 27,
   "id": "5335d347",
   "metadata": {},
   "outputs": [
    {
     "data": {
      "text/plain": [
       "pandas.core.series.Series"
      ]
     },
     "execution_count": 27,
     "metadata": {},
     "output_type": "execute_result"
    }
   ],
   "source": [
    "type(y_test)"
   ]
  },
  {
   "cell_type": "code",
   "execution_count": 28,
   "id": "889db212",
   "metadata": {},
   "outputs": [
    {
     "data": {
      "text/plain": [
       "numpy.ndarray"
      ]
     },
     "execution_count": 28,
     "metadata": {},
     "output_type": "execute_result"
    }
   ],
   "source": [
    "type(y_pred_linreg)"
   ]
  },
  {
   "cell_type": "code",
   "execution_count": 29,
   "id": "fa21255d",
   "metadata": {},
   "outputs": [
    {
     "data": {
      "text/plain": [
       "0.8888888888888888"
      ]
     },
     "execution_count": 29,
     "metadata": {},
     "output_type": "execute_result"
    }
   ],
   "source": [
    "accuracy_score(y_test, y_pred_logreg)\n"
   ]
  },
  {
   "cell_type": "code",
   "execution_count": null,
   "id": "c922f03e",
   "metadata": {},
   "outputs": [],
   "source": []
  }
 ],
 "metadata": {
  "kernelspec": {
   "display_name": "Python 3.8.8 ('base')",
   "language": "python",
   "name": "python3"
  },
  "language_info": {
   "codemirror_mode": {
    "name": "ipython",
    "version": 3
   },
   "file_extension": ".py",
   "mimetype": "text/x-python",
   "name": "python",
   "nbconvert_exporter": "python",
   "pygments_lexer": "ipython3",
   "version": "3.8.8"
  },
  "vscode": {
   "interpreter": {
    "hash": "12d738f96725d1c1f433a1d40c5369c2dd6b861cec3a8aa29acd662c91ac2528"
   }
  }
 },
 "nbformat": 4,
 "nbformat_minor": 5
}
